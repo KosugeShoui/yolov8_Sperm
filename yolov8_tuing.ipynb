{
 "cells": [
  {
   "cell_type": "markdown",
   "id": "19f1be06-643c-413a-b1c0-225988189fe0",
   "metadata": {},
   "source": [
    "# yolov8 hyper parameter tuning"
   ]
  },
  {
   "cell_type": "markdown",
   "id": "69cc138a-7256-40b1-b33a-ad9e7e50f63a",
   "metadata": {},
   "source": [
    "## 0. cd check"
   ]
  },
  {
   "cell_type": "code",
   "execution_count": 2,
   "id": "ec110b5f-9be2-4cf0-ba53-818cce686716",
   "metadata": {},
   "outputs": [
    {
     "name": "stdout",
     "output_type": "stream",
     "text": [
      "/work/kosuge/M1/yolov8_sperm_learning/ultralytics\n"
     ]
    }
   ],
   "source": [
    "cd ultralytics"
   ]
  },
  {
   "cell_type": "code",
   "execution_count": 3,
   "id": "baea0ec5-c23a-492a-bb35-bd28951b9031",
   "metadata": {},
   "outputs": [
    {
     "name": "stdout",
     "output_type": "stream",
     "text": [
      "/work/kosuge/M1/yolov8_sperm_learning/ultralytics\n"
     ]
    }
   ],
   "source": [
    "import os\n",
    "path = os.getcwd()\n",
    "print(path)"
   ]
  },
  {
   "cell_type": "markdown",
   "id": "5b186551-e9df-4b95-8195-a26540bb3c71",
   "metadata": {},
   "source": [
    "## 1. weight"
   ]
  },
  {
   "cell_type": "code",
   "execution_count": 4,
   "id": "e29e3615-b024-42ad-a959-d57dac27d590",
   "metadata": {},
   "outputs": [
    {
     "name": "stdout",
     "output_type": "stream",
     "text": [
      "runs/visem_detect/train_1024_visem/weights/best.pt\n"
     ]
    }
   ],
   "source": [
    "from ultralytics import YOLO\n",
    "from ultralytics.utils.tuner import run_ray_tune\n",
    "#uri = os.path.abspath('./runs/tune')\n",
    "\n",
    "\n",
    "#exp_name & model_weight\n",
    "root_dir = \"runs/visem_detect/train_1024_visem/weights\"\n",
    "data_path = '../../Image_label_visem_yolo/data_visem.yaml'\n",
    "model_weight = os.path.join(root_dir,'best.pt')\n",
    "print(model_weight)"
   ]
  },
  {
   "cell_type": "markdown",
   "id": "2334188d-5e74-44b6-af7e-6f1b234d1ec1",
   "metadata": {},
   "source": [
    "## 2. tuing\n",
    "- source / ultralytics.engine.tuner.Tuner\n",
    "- https://docs.ultralytics.com/integrations/ray-tune/#tune-method-parameters"
   ]
  },
  {
   "cell_type": "code",
   "execution_count": 7,
   "id": "996979ae-39eb-45ba-88e7-a1c8d85f872d",
   "metadata": {},
   "outputs": [
    {
     "data": {
      "text/html": [
       "<div class=\"tuneStatus\">\n",
       "  <div style=\"display: flex;flex-direction: row\">\n",
       "    <div style=\"display: flex;flex-direction: column;\">\n",
       "      <h3>Tune Status</h3>\n",
       "      <table>\n",
       "<tbody>\n",
       "<tr><td>Current time:</td><td>2023-11-14 12:07:05</td></tr>\n",
       "<tr><td>Running for: </td><td>20:04:15.31        </td></tr>\n",
       "<tr><td>Memory:      </td><td>21.4/62.7 GiB      </td></tr>\n",
       "</tbody>\n",
       "</table>\n",
       "    </div>\n",
       "    <div class=\"vDivider\"></div>\n",
       "    <div class=\"systemInfo\">\n",
       "      <h3>System Info</h3>\n",
       "      Using AsyncHyperBand: num_stopped=0<br>Bracket: Iter 90.000: None | Iter 30.000: None<br>Logical resource usage: 0/8 CPUs, 0/1 GPUs (0.0/1.0 accelerator_type:TITAN)\n",
       "    </div>\n",
       "    \n",
       "  </div>\n",
       "  <div class=\"hDivider\"></div>\n",
       "  <div class=\"trialStatus\">\n",
       "    <h3>Trial Status</h3>\n",
       "    <table>\n",
       "<thead>\n",
       "<tr><th>Trial name       </th><th>status  </th><th>loc  </th><th style=\"text-align: right;\">      box</th><th style=\"text-align: right;\">     cls</th><th style=\"text-align: right;\">  copy_paste</th><th style=\"text-align: right;\">  degrees</th><th style=\"text-align: right;\">    fliplr</th><th style=\"text-align: right;\">  flipud</th><th style=\"text-align: right;\">     hsv_h</th><th style=\"text-align: right;\">   hsv_s</th><th style=\"text-align: right;\">   hsv_v</th><th style=\"text-align: right;\">      lr0</th><th style=\"text-align: right;\">     lrf</th><th style=\"text-align: right;\">    mixup</th><th style=\"text-align: right;\">  momentum</th><th style=\"text-align: right;\">    mosaic</th><th style=\"text-align: right;\">  perspective</th><th style=\"text-align: right;\">    scale</th><th style=\"text-align: right;\">    shear</th><th style=\"text-align: right;\">  translate</th><th style=\"text-align: right;\">  warmup_epochs</th><th style=\"text-align: right;\">  warmup_momentum</th><th style=\"text-align: right;\">  weight_decay</th></tr>\n",
       "</thead>\n",
       "<tbody>\n",
       "<tr><td>_tune_a7912_00000</td><td>PENDING </td><td>     </td><td style=\"text-align: right;\">0.0833098</td><td style=\"text-align: right;\">1.0708  </td><td style=\"text-align: right;\">    0.236104</td><td style=\"text-align: right;\">29.3362  </td><td style=\"text-align: right;\">0.808626  </td><td style=\"text-align: right;\">0.85725 </td><td style=\"text-align: right;\">0.0604183 </td><td style=\"text-align: right;\">0.702707</td><td style=\"text-align: right;\">0.596838</td><td style=\"text-align: right;\">0.0296332</td><td style=\"text-align: right;\">0.345703</td><td style=\"text-align: right;\">0.659861 </td><td style=\"text-align: right;\">  0.935482</td><td style=\"text-align: right;\">0.135665  </td><td style=\"text-align: right;\">  0.000513405</td><td style=\"text-align: right;\">0.404173 </td><td style=\"text-align: right;\">1.7997   </td><td style=\"text-align: right;\">   0.594509</td><td style=\"text-align: right;\">       0.664941</td><td style=\"text-align: right;\">        0.165357 </td><td style=\"text-align: right;\">   0.000463025</td></tr>\n",
       "<tr><td>_tune_a7912_00001</td><td>PENDING </td><td>     </td><td style=\"text-align: right;\">0.102479 </td><td style=\"text-align: right;\">1.39208 </td><td style=\"text-align: right;\">    0.605677</td><td style=\"text-align: right;\">24.2386  </td><td style=\"text-align: right;\">0.72097   </td><td style=\"text-align: right;\">0.155654</td><td style=\"text-align: right;\">0.00260145</td><td style=\"text-align: right;\">0.897834</td><td style=\"text-align: right;\">0.563881</td><td style=\"text-align: right;\">0.0565589</td><td style=\"text-align: right;\">0.867611</td><td style=\"text-align: right;\">0.725877 </td><td style=\"text-align: right;\">  0.66567 </td><td style=\"text-align: right;\">0.00430864</td><td style=\"text-align: right;\">  0.000879682</td><td style=\"text-align: right;\">0.608636 </td><td style=\"text-align: right;\">3.09713  </td><td style=\"text-align: right;\">   0.670849</td><td style=\"text-align: right;\">       4.50998 </td><td style=\"text-align: right;\">        0.633171 </td><td style=\"text-align: right;\">   0.000772873</td></tr>\n",
       "<tr><td>_tune_a7912_00002</td><td>PENDING </td><td>     </td><td style=\"text-align: right;\">0.0858295</td><td style=\"text-align: right;\">3.64006 </td><td style=\"text-align: right;\">    0.869808</td><td style=\"text-align: right;\"> 7.50197 </td><td style=\"text-align: right;\">0.991477  </td><td style=\"text-align: right;\">0.225657</td><td style=\"text-align: right;\">0.0422881 </td><td style=\"text-align: right;\">0.835997</td><td style=\"text-align: right;\">0.463144</td><td style=\"text-align: right;\">0.0253152</td><td style=\"text-align: right;\">0.936878</td><td style=\"text-align: right;\">0.208114 </td><td style=\"text-align: right;\">  0.909635</td><td style=\"text-align: right;\">0.294147  </td><td style=\"text-align: right;\">  0.000993116</td><td style=\"text-align: right;\">0.377373 </td><td style=\"text-align: right;\">2.68075  </td><td style=\"text-align: right;\">   0.607043</td><td style=\"text-align: right;\">       0.739518</td><td style=\"text-align: right;\">        0.756464 </td><td style=\"text-align: right;\">   7.93088e-05</td></tr>\n",
       "<tr><td>_tune_a7912_00003</td><td>PENDING </td><td>     </td><td style=\"text-align: right;\">0.166466 </td><td style=\"text-align: right;\">2.14792 </td><td style=\"text-align: right;\">    0.519051</td><td style=\"text-align: right;\"> 4.55336 </td><td style=\"text-align: right;\">0.984699  </td><td style=\"text-align: right;\">0.549492</td><td style=\"text-align: right;\">0.0747712 </td><td style=\"text-align: right;\">0.368025</td><td style=\"text-align: right;\">0.536162</td><td style=\"text-align: right;\">0.019945 </td><td style=\"text-align: right;\">0.995747</td><td style=\"text-align: right;\">0.0443768</td><td style=\"text-align: right;\">  0.699519</td><td style=\"text-align: right;\">0.883123  </td><td style=\"text-align: right;\">  0.000556951</td><td style=\"text-align: right;\">0.347979 </td><td style=\"text-align: right;\">2.65944  </td><td style=\"text-align: right;\">   0.10195 </td><td style=\"text-align: right;\">       3.81827 </td><td style=\"text-align: right;\">        0.237128 </td><td style=\"text-align: right;\">   0.000437473</td></tr>\n",
       "<tr><td>_tune_a7912_00004</td><td>PENDING </td><td>     </td><td style=\"text-align: right;\">0.0205248</td><td style=\"text-align: right;\">3.38461 </td><td style=\"text-align: right;\">    0.226028</td><td style=\"text-align: right;\"> 0.747026</td><td style=\"text-align: right;\">0.62984   </td><td style=\"text-align: right;\">0.808769</td><td style=\"text-align: right;\">0.0792106 </td><td style=\"text-align: right;\">0.579648</td><td style=\"text-align: right;\">0.615051</td><td style=\"text-align: right;\">0.0177147</td><td style=\"text-align: right;\">0.538762</td><td style=\"text-align: right;\">0.452513 </td><td style=\"text-align: right;\">  0.738767</td><td style=\"text-align: right;\">0.87194   </td><td style=\"text-align: right;\">  8.84991e-05</td><td style=\"text-align: right;\">0.0686972</td><td style=\"text-align: right;\">3.33084  </td><td style=\"text-align: right;\">   0.08277 </td><td style=\"text-align: right;\">       3.69299 </td><td style=\"text-align: right;\">        0.400521 </td><td style=\"text-align: right;\">   0.000863436</td></tr>\n",
       "<tr><td>_tune_a7912_00005</td><td>PENDING </td><td>     </td><td style=\"text-align: right;\">0.0510071</td><td style=\"text-align: right;\">3.1337  </td><td style=\"text-align: right;\">    0.244682</td><td style=\"text-align: right;\">27.8241  </td><td style=\"text-align: right;\">0.00287286</td><td style=\"text-align: right;\">0.950334</td><td style=\"text-align: right;\">0.0409856 </td><td style=\"text-align: right;\">0.182084</td><td style=\"text-align: right;\">0.895733</td><td style=\"text-align: right;\">0.0660446</td><td style=\"text-align: right;\">0.7065  </td><td style=\"text-align: right;\">0.928223 </td><td style=\"text-align: right;\">  0.707583</td><td style=\"text-align: right;\">0.794011  </td><td style=\"text-align: right;\">  0.000194326</td><td style=\"text-align: right;\">0.422422 </td><td style=\"text-align: right;\">1.14034  </td><td style=\"text-align: right;\">   0.686023</td><td style=\"text-align: right;\">       3.94105 </td><td style=\"text-align: right;\">        0.450204 </td><td style=\"text-align: right;\">   0.000338829</td></tr>\n",
       "<tr><td>_tune_a7912_00006</td><td>PENDING </td><td>     </td><td style=\"text-align: right;\">0.083744 </td><td style=\"text-align: right;\">3.19579 </td><td style=\"text-align: right;\">    0.656999</td><td style=\"text-align: right;\">30.2986  </td><td style=\"text-align: right;\">0.477548  </td><td style=\"text-align: right;\">0.256941</td><td style=\"text-align: right;\">0.0692258 </td><td style=\"text-align: right;\">0.467523</td><td style=\"text-align: right;\">0.374026</td><td style=\"text-align: right;\">0.035667 </td><td style=\"text-align: right;\">0.179302</td><td style=\"text-align: right;\">0.706968 </td><td style=\"text-align: right;\">  0.975015</td><td style=\"text-align: right;\">0.601529  </td><td style=\"text-align: right;\">  0.000501263</td><td style=\"text-align: right;\">0.887337 </td><td style=\"text-align: right;\">0.0629263</td><td style=\"text-align: right;\">   0.485071</td><td style=\"text-align: right;\">       2.96221 </td><td style=\"text-align: right;\">        0.512001 </td><td style=\"text-align: right;\">   0.000785097</td></tr>\n",
       "<tr><td>_tune_a7912_00007</td><td>PENDING </td><td>     </td><td style=\"text-align: right;\">0.103163 </td><td style=\"text-align: right;\">0.50352 </td><td style=\"text-align: right;\">    0.202131</td><td style=\"text-align: right;\">21.6465  </td><td style=\"text-align: right;\">0.740877  </td><td style=\"text-align: right;\">0.221086</td><td style=\"text-align: right;\">0.0202707 </td><td style=\"text-align: right;\">0.503964</td><td style=\"text-align: right;\">0.66744 </td><td style=\"text-align: right;\">0.0538984</td><td style=\"text-align: right;\">0.62948 </td><td style=\"text-align: right;\">0.872781 </td><td style=\"text-align: right;\">  0.776344</td><td style=\"text-align: right;\">0.165304  </td><td style=\"text-align: right;\">  0.000827355</td><td style=\"text-align: right;\">0.825482 </td><td style=\"text-align: right;\">4.41421  </td><td style=\"text-align: right;\">   0.381317</td><td style=\"text-align: right;\">       1.09632 </td><td style=\"text-align: right;\">        0.90565  </td><td style=\"text-align: right;\">   0.000676479</td></tr>\n",
       "<tr><td>_tune_a7912_00008</td><td>PENDING </td><td>     </td><td style=\"text-align: right;\">0.173025 </td><td style=\"text-align: right;\">0.249803</td><td style=\"text-align: right;\">    0.596972</td><td style=\"text-align: right;\"> 9.98348 </td><td style=\"text-align: right;\">0.990143  </td><td style=\"text-align: right;\">0.765603</td><td style=\"text-align: right;\">0.0565943 </td><td style=\"text-align: right;\">0.192382</td><td style=\"text-align: right;\">0.413389</td><td style=\"text-align: right;\">0.0446807</td><td style=\"text-align: right;\">0.826737</td><td style=\"text-align: right;\">0.961695 </td><td style=\"text-align: right;\">  0.7739  </td><td style=\"text-align: right;\">0.799164  </td><td style=\"text-align: right;\">  0.000714201</td><td style=\"text-align: right;\">0.321324 </td><td style=\"text-align: right;\">6.34151  </td><td style=\"text-align: right;\">   0.785578</td><td style=\"text-align: right;\">       4.17511 </td><td style=\"text-align: right;\">        0.0205595</td><td style=\"text-align: right;\">   0.000181186</td></tr>\n",
       "<tr><td>_tune_a7912_00009</td><td>PENDING </td><td>     </td><td style=\"text-align: right;\">0.149638 </td><td style=\"text-align: right;\">2.11857 </td><td style=\"text-align: right;\">    0.405816</td><td style=\"text-align: right;\">42.9049  </td><td style=\"text-align: right;\">0.654344  </td><td style=\"text-align: right;\">0.21572 </td><td style=\"text-align: right;\">0.0469397 </td><td style=\"text-align: right;\">0.294544</td><td style=\"text-align: right;\">0.302966</td><td style=\"text-align: right;\">0.0955633</td><td style=\"text-align: right;\">0.594025</td><td style=\"text-align: right;\">0.0465279</td><td style=\"text-align: right;\">  0.853338</td><td style=\"text-align: right;\">0.385822  </td><td style=\"text-align: right;\">  0.000636673</td><td style=\"text-align: right;\">0.496535 </td><td style=\"text-align: right;\">1.98407  </td><td style=\"text-align: right;\">   0.269922</td><td style=\"text-align: right;\">       3.04292 </td><td style=\"text-align: right;\">        0.199432 </td><td style=\"text-align: right;\">   0.00066832 </td></tr>\n",
       "</tbody>\n",
       "</table>\n",
       "  </div>\n",
       "</div>\n",
       "<style>\n",
       ".tuneStatus {\n",
       "  color: var(--jp-ui-font-color1);\n",
       "}\n",
       ".tuneStatus .systemInfo {\n",
       "  display: flex;\n",
       "  flex-direction: column;\n",
       "}\n",
       ".tuneStatus td {\n",
       "  white-space: nowrap;\n",
       "}\n",
       ".tuneStatus .trialStatus {\n",
       "  display: flex;\n",
       "  flex-direction: column;\n",
       "}\n",
       ".tuneStatus h3 {\n",
       "  font-weight: bold;\n",
       "}\n",
       ".tuneStatus .hDivider {\n",
       "  border-bottom-width: var(--jp-border-width);\n",
       "  border-bottom-color: var(--jp-border-color0);\n",
       "  border-bottom-style: solid;\n",
       "}\n",
       ".tuneStatus .vDivider {\n",
       "  border-left-width: var(--jp-border-width);\n",
       "  border-left-color: var(--jp-border-color0);\n",
       "  border-left-style: solid;\n",
       "  margin: 0.5em 1em 0.5em 1em;\n",
       "}\n",
       "</style>\n"
      ],
      "text/plain": [
       "<IPython.core.display.HTML object>"
      ]
     },
     "metadata": {},
     "output_type": "display_data"
    },
    {
     "name": "stderr",
     "output_type": "stream",
     "text": [
      "2023-11-13 16:02:49,826\tINFO wandb.py:307 -- Already logged into W&B.\n",
      "\u001b[33m(raylet)\u001b[0m [2023-11-14 08:13:46,111 E 6849 6849] (raylet) node_manager.cc:3035: 1 Workers (tasks / actors) killed due to memory pressure (OOM), 0 Workers crashed due to other reasons at node (ID: 8f2fbcf07b44cba0251ad122326cd45e651df6c97a35526b84f0320a, IP: 192.168.32.2) over the last time period. To see more information about the Workers killed on this node, use `ray logs raylet.out -ip 192.168.32.2`\n",
      "\u001b[33m(raylet)\u001b[0m \n",
      "\u001b[33m(raylet)\u001b[0m Refer to the documentation on how to address the out of memory issue: https://docs.ray.io/en/latest/ray-core/scheduling/ray-oom-prevention.html. Consider provisioning more memory on this node or reducing task parallelism by requesting more CPUs per task. To adjust the kill threshold, set the environment variable `RAY_memory_usage_threshold` when starting Ray. To disable worker killing, set the environment variable `RAY_memory_monitor_refresh_ms` to zero.\n",
      "2023-11-14 08:50:35,316\tWARNING util.py:202 -- The `on_step_begin` operation took 0.571 s, which may be a performance bottleneck.\n",
      "2023-11-14 08:50:46,345\tWARNING util.py:202 -- The `on_step_begin` operation took 0.556 s, which may be a performance bottleneck.\n",
      "2023-11-14 08:50:59,609\tWARNING util.py:202 -- The `on_step_begin` operation took 2.936 s, which may be a performance bottleneck.\n",
      "2023-11-14 08:51:10,955\tWARNING util.py:202 -- The `on_step_begin` operation took 1.175 s, which may be a performance bottleneck.\n",
      "2023-11-14 08:51:21,958\tWARNING util.py:202 -- The `on_step_begin` operation took 0.852 s, which may be a performance bottleneck.\n",
      "2023-11-14 08:51:44,160\tWARNING util.py:202 -- The `on_step_begin` operation took 1.787 s, which may be a performance bottleneck.\n",
      "2023-11-14 08:51:55,197\tWARNING util.py:202 -- The `on_step_begin` operation took 1.027 s, which may be a performance bottleneck.\n",
      "2023-11-14 08:52:07,763\tWARNING util.py:202 -- The `on_step_begin` operation took 2.475 s, which may be a performance bottleneck.\n",
      "2023-11-14 08:52:21,255\tWARNING util.py:202 -- The `on_step_begin` operation took 3.164 s, which may be a performance bottleneck.\n",
      "2023-11-14 08:52:37,875\tWARNING util.py:202 -- The `on_step_begin` operation took 5.097 s, which may be a performance bottleneck.\n",
      "2023-11-14 08:54:10,571\tWARNING util.py:202 -- The `on_step_begin` operation took 0.600 s, which may be a performance bottleneck.\n",
      "2023-11-14 08:54:41,939\tWARNING util.py:202 -- The `on_step_begin` operation took 0.711 s, which may be a performance bottleneck.\n",
      "2023-11-14 08:56:35,441\tWARNING util.py:202 -- The `on_step_begin` operation took 0.551 s, which may be a performance bottleneck.\n",
      "2023-11-14 08:56:46,220\tWARNING util.py:202 -- The `on_step_begin` operation took 0.723 s, which may be a performance bottleneck.\n",
      "2023-11-14 08:57:17,717\tWARNING util.py:202 -- The `on_step_begin` operation took 0.606 s, which may be a performance bottleneck.\n",
      "2023-11-14 08:57:38,816\tWARNING util.py:202 -- The `on_step_begin` operation took 0.631 s, which may be a performance bottleneck.\n",
      "2023-11-14 08:57:50,186\tWARNING util.py:202 -- The `on_step_begin` operation took 1.328 s, which may be a performance bottleneck.\n",
      "2023-11-14 08:58:00,949\tWARNING util.py:202 -- The `on_step_begin` operation took 0.716 s, which may be a performance bottleneck.\n",
      "2023-11-14 08:58:43,282\tWARNING util.py:202 -- The `on_step_begin` operation took 1.083 s, which may be a performance bottleneck.\n",
      "2023-11-14 08:58:55,655\tWARNING util.py:202 -- The `on_step_begin` operation took 2.026 s, which may be a performance bottleneck.\n",
      "2023-11-14 08:59:11,593\tWARNING util.py:202 -- The `on_step_begin` operation took 5.665 s, which may be a performance bottleneck.\n",
      "2023-11-14 08:59:22,235\tWARNING util.py:202 -- The `on_step_begin` operation took 0.582 s, which may be a performance bottleneck.\n",
      "2023-11-14 08:59:32,870\tWARNING util.py:202 -- The `on_step_begin` operation took 0.510 s, which may be a performance bottleneck.\n",
      "2023-11-14 09:00:04,388\tWARNING util.py:202 -- The `on_step_begin` operation took 0.663 s, which may be a performance bottleneck.\n",
      "2023-11-14 09:00:46,159\tWARNING util.py:202 -- The `on_step_begin` operation took 0.528 s, which may be a performance bottleneck.\n",
      "2023-11-14 09:01:38,948\tWARNING util.py:202 -- The `on_step_begin` operation took 0.894 s, which may be a performance bottleneck.\n",
      "2023-11-14 09:01:50,458\tWARNING util.py:202 -- The `on_step_begin` operation took 1.462 s, which may be a performance bottleneck.\n",
      "2023-11-14 09:02:03,816\tWARNING util.py:202 -- The `on_step_begin` operation took 3.009 s, which may be a performance bottleneck.\n",
      "2023-11-14 09:02:14,735\tWARNING util.py:202 -- The `on_step_begin` operation took 0.833 s, which may be a performance bottleneck.\n",
      "2023-11-14 12:07:05,026\tWARNING tune.py:186 -- Stop signal received (e.g. via SIGINT/Ctrl+C), ending Ray Tune run. This will try to checkpoint the experiment state one last time. Press CTRL+C (or send SIGINT/SIGKILL/SIGTERM) to skip. \n",
      "2023-11-14 12:07:05,165\tINFO tune.py:1047 -- Total run time: 72256.77 seconds (72255.20 seconds for the tuning loop).\n",
      "2023-11-14 12:07:05,166\tWARNING tune.py:1062 -- Experiment has been interrupted, but the most recent state was saved.\n",
      "Resume experiment with: Tuner.restore(path=\"/work/kosuge/M1/yolov8_sperm_learning/ultralytics/runs/tune/_tune_2023-11-13_16-02-48\", trainable=...)\n",
      "2023-11-14 12:07:05,196\tWARNING experiment_analysis.py:185 -- Failed to fetch metrics for 10 trial(s):\n",
      "- _tune_a7912_00000: FileNotFoundError('Could not fetch metrics for _tune_a7912_00000: both result.json and progress.csv were not found at /work/kosuge/M1/yolov8_sperm_learning/ultralytics/runs/tune/_tune_2023-11-13_16-02-48/_tune_a7912_00000_0_box=0.0833,cls=1.0708,copy_paste=0.2361,degrees=29.3362,fliplr=0.8086,flipud=0.8573,hsv_h=0.0604,hsv_s=0.7027,_2023-11-13_16-03-01')\n",
      "- _tune_a7912_00001: FileNotFoundError('Could not fetch metrics for _tune_a7912_00001: both result.json and progress.csv were not found at /work/kosuge/M1/yolov8_sperm_learning/ultralytics/runs/tune/_tune_2023-11-13_16-02-48/_tune_a7912_00001_1_box=0.1025,cls=1.3921,copy_paste=0.6057,degrees=24.2386,fliplr=0.7210,flipud=0.1557,hsv_h=0.0026,hsv_s=0.8978,_2023-11-13_16-03-02')\n",
      "- _tune_a7912_00002: FileNotFoundError('Could not fetch metrics for _tune_a7912_00002: both result.json and progress.csv were not found at /work/kosuge/M1/yolov8_sperm_learning/ultralytics/runs/tune/_tune_2023-11-13_16-02-48/_tune_a7912_00002_2_box=0.0858,cls=3.6401,copy_paste=0.8698,degrees=7.5020,fliplr=0.9915,flipud=0.2257,hsv_h=0.0423,hsv_s=0.8360,h_2023-11-13_16-03-02')\n",
      "- _tune_a7912_00003: FileNotFoundError('Could not fetch metrics for _tune_a7912_00003: both result.json and progress.csv were not found at /work/kosuge/M1/yolov8_sperm_learning/ultralytics/runs/tune/_tune_2023-11-13_16-02-48/_tune_a7912_00003_3_box=0.1665,cls=2.1479,copy_paste=0.5191,degrees=4.5534,fliplr=0.9847,flipud=0.5495,hsv_h=0.0748,hsv_s=0.3680,h_2023-11-13_16-03-03')\n",
      "- _tune_a7912_00004: FileNotFoundError('Could not fetch metrics for _tune_a7912_00004: both result.json and progress.csv were not found at /work/kosuge/M1/yolov8_sperm_learning/ultralytics/runs/tune/_tune_2023-11-13_16-02-48/_tune_a7912_00004_4_box=0.0205,cls=3.3846,copy_paste=0.2260,degrees=0.7470,fliplr=0.6298,flipud=0.8088,hsv_h=0.0792,hsv_s=0.5796,h_2023-11-13_16-03-04')\n",
      "- _tune_a7912_00005: FileNotFoundError('Could not fetch metrics for _tune_a7912_00005: both result.json and progress.csv were not found at /work/kosuge/M1/yolov8_sperm_learning/ultralytics/runs/tune/_tune_2023-11-13_16-02-48/_tune_a7912_00005_5_box=0.0510,cls=3.1337,copy_paste=0.2447,degrees=27.8241,fliplr=0.0029,flipud=0.9503,hsv_h=0.0410,hsv_s=0.1821,_2023-11-13_16-03-05')\n",
      "- _tune_a7912_00006: FileNotFoundError('Could not fetch metrics for _tune_a7912_00006: both result.json and progress.csv were not found at /work/kosuge/M1/yolov8_sperm_learning/ultralytics/runs/tune/_tune_2023-11-13_16-02-48/_tune_a7912_00006_6_box=0.0837,cls=3.1958,copy_paste=0.6570,degrees=30.2986,fliplr=0.4775,flipud=0.2569,hsv_h=0.0692,hsv_s=0.4675,_2023-11-13_16-03-06')\n",
      "- _tune_a7912_00007: FileNotFoundError('Could not fetch metrics for _tune_a7912_00007: both result.json and progress.csv were not found at /work/kosuge/M1/yolov8_sperm_learning/ultralytics/runs/tune/_tune_2023-11-13_16-02-48/_tune_a7912_00007_7_box=0.1032,cls=0.5035,copy_paste=0.2021,degrees=21.6465,fliplr=0.7409,flipud=0.2211,hsv_h=0.0203,hsv_s=0.5040,_2023-11-13_16-03-06')\n",
      "- _tune_a7912_00008: FileNotFoundError('Could not fetch metrics for _tune_a7912_00008: both result.json and progress.csv were not found at /work/kosuge/M1/yolov8_sperm_learning/ultralytics/runs/tune/_tune_2023-11-13_16-02-48/_tune_a7912_00008_8_box=0.1730,cls=0.2498,copy_paste=0.5970,degrees=9.9835,fliplr=0.9901,flipud=0.7656,hsv_h=0.0566,hsv_s=0.1924,h_2023-11-13_16-03-07')\n",
      "- _tune_a7912_00009: FileNotFoundError('Could not fetch metrics for _tune_a7912_00009: both result.json and progress.csv were not found at /work/kosuge/M1/yolov8_sperm_learning/ultralytics/runs/tune/_tune_2023-11-13_16-02-48/_tune_a7912_00009_9_box=0.1496,cls=2.1186,copy_paste=0.4058,degrees=42.9049,fliplr=0.6543,flipud=0.2157,hsv_h=0.0469,hsv_s=0.2945,_2023-11-13_16-03-08')\n"
     ]
    },
    {
     "data": {
      "text/plain": [
       "ResultGrid<[\n",
       "  Result(\n",
       "    metrics={},\n",
       "    path='/work/kosuge/M1/yolov8_sperm_learning/ultralytics/runs/tune/_tune_2023-11-13_16-02-48/_tune_a7912_00000_0_box=0.0833,cls=1.0708,copy_paste=0.2361,degrees=29.3362,fliplr=0.8086,flipud=0.8573,hsv_h=0.0604,hsv_s=0.7027,_2023-11-13_16-03-01',\n",
       "    filesystem='local',\n",
       "    checkpoint=None\n",
       "  ),\n",
       "  Result(\n",
       "    metrics={},\n",
       "    path='/work/kosuge/M1/yolov8_sperm_learning/ultralytics/runs/tune/_tune_2023-11-13_16-02-48/_tune_a7912_00001_1_box=0.1025,cls=1.3921,copy_paste=0.6057,degrees=24.2386,fliplr=0.7210,flipud=0.1557,hsv_h=0.0026,hsv_s=0.8978,_2023-11-13_16-03-02',\n",
       "    filesystem='local',\n",
       "    checkpoint=None\n",
       "  ),\n",
       "  Result(\n",
       "    metrics={},\n",
       "    path='/work/kosuge/M1/yolov8_sperm_learning/ultralytics/runs/tune/_tune_2023-11-13_16-02-48/_tune_a7912_00002_2_box=0.0858,cls=3.6401,copy_paste=0.8698,degrees=7.5020,fliplr=0.9915,flipud=0.2257,hsv_h=0.0423,hsv_s=0.8360,h_2023-11-13_16-03-02',\n",
       "    filesystem='local',\n",
       "    checkpoint=None\n",
       "  ),\n",
       "  Result(\n",
       "    metrics={},\n",
       "    path='/work/kosuge/M1/yolov8_sperm_learning/ultralytics/runs/tune/_tune_2023-11-13_16-02-48/_tune_a7912_00003_3_box=0.1665,cls=2.1479,copy_paste=0.5191,degrees=4.5534,fliplr=0.9847,flipud=0.5495,hsv_h=0.0748,hsv_s=0.3680,h_2023-11-13_16-03-03',\n",
       "    filesystem='local',\n",
       "    checkpoint=None\n",
       "  ),\n",
       "  Result(\n",
       "    metrics={},\n",
       "    path='/work/kosuge/M1/yolov8_sperm_learning/ultralytics/runs/tune/_tune_2023-11-13_16-02-48/_tune_a7912_00004_4_box=0.0205,cls=3.3846,copy_paste=0.2260,degrees=0.7470,fliplr=0.6298,flipud=0.8088,hsv_h=0.0792,hsv_s=0.5796,h_2023-11-13_16-03-04',\n",
       "    filesystem='local',\n",
       "    checkpoint=None\n",
       "  ),\n",
       "  Result(\n",
       "    metrics={},\n",
       "    path='/work/kosuge/M1/yolov8_sperm_learning/ultralytics/runs/tune/_tune_2023-11-13_16-02-48/_tune_a7912_00005_5_box=0.0510,cls=3.1337,copy_paste=0.2447,degrees=27.8241,fliplr=0.0029,flipud=0.9503,hsv_h=0.0410,hsv_s=0.1821,_2023-11-13_16-03-05',\n",
       "    filesystem='local',\n",
       "    checkpoint=None\n",
       "  ),\n",
       "  Result(\n",
       "    metrics={},\n",
       "    path='/work/kosuge/M1/yolov8_sperm_learning/ultralytics/runs/tune/_tune_2023-11-13_16-02-48/_tune_a7912_00006_6_box=0.0837,cls=3.1958,copy_paste=0.6570,degrees=30.2986,fliplr=0.4775,flipud=0.2569,hsv_h=0.0692,hsv_s=0.4675,_2023-11-13_16-03-06',\n",
       "    filesystem='local',\n",
       "    checkpoint=None\n",
       "  ),\n",
       "  Result(\n",
       "    metrics={},\n",
       "    path='/work/kosuge/M1/yolov8_sperm_learning/ultralytics/runs/tune/_tune_2023-11-13_16-02-48/_tune_a7912_00007_7_box=0.1032,cls=0.5035,copy_paste=0.2021,degrees=21.6465,fliplr=0.7409,flipud=0.2211,hsv_h=0.0203,hsv_s=0.5040,_2023-11-13_16-03-06',\n",
       "    filesystem='local',\n",
       "    checkpoint=None\n",
       "  ),\n",
       "  Result(\n",
       "    metrics={},\n",
       "    path='/work/kosuge/M1/yolov8_sperm_learning/ultralytics/runs/tune/_tune_2023-11-13_16-02-48/_tune_a7912_00008_8_box=0.1730,cls=0.2498,copy_paste=0.5970,degrees=9.9835,fliplr=0.9901,flipud=0.7656,hsv_h=0.0566,hsv_s=0.1924,h_2023-11-13_16-03-07',\n",
       "    filesystem='local',\n",
       "    checkpoint=None\n",
       "  ),\n",
       "  Result(\n",
       "    metrics={},\n",
       "    path='/work/kosuge/M1/yolov8_sperm_learning/ultralytics/runs/tune/_tune_2023-11-13_16-02-48/_tune_a7912_00009_9_box=0.1496,cls=2.1186,copy_paste=0.4058,degrees=42.9049,fliplr=0.6543,flipud=0.2157,hsv_h=0.0469,hsv_s=0.2945,_2023-11-13_16-03-08',\n",
       "    filesystem='local',\n",
       "    checkpoint=None\n",
       "  )\n",
       "]>"
      ]
     },
     "execution_count": 7,
     "metadata": {},
     "output_type": "execute_result"
    }
   ],
   "source": [
    "model = YOLO(model_weight)\n",
    "#model.tune(data=data_path, epochs=10, iterations=100, optimizer='AdamW',name = '../tune',plots = False, save=True, val=True, project = 'yolov8_tune_test')\n",
    "run_ray_tune(model, data=\"../../Image_label_visem_yolo/data_visem.yaml\", grace_period=30, gpu_per_trial=1)"
   ]
  }
 ],
 "metadata": {
  "kernelspec": {
   "display_name": "Python 3 (ipykernel)",
   "language": "python",
   "name": "python3"
  },
  "language_info": {
   "codemirror_mode": {
    "name": "ipython",
    "version": 3
   },
   "file_extension": ".py",
   "mimetype": "text/x-python",
   "name": "python",
   "nbconvert_exporter": "python",
   "pygments_lexer": "ipython3",
   "version": "3.8.10"
  }
 },
 "nbformat": 4,
 "nbformat_minor": 5
}
