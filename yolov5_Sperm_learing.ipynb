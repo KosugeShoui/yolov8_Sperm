{
 "cells": [
  {
   "cell_type": "markdown",
   "id": "e55e5002-411a-4931-b025-84796f8d7539",
   "metadata": {},
   "source": [
    "# yolo v5 learning"
   ]
  },
  {
   "cell_type": "code",
   "execution_count": 1,
   "id": "0097a64c-a308-49bf-a073-ee845d5de769",
   "metadata": {},
   "outputs": [
    {
     "name": "stdout",
     "output_type": "stream",
     "text": [
      "/work/kosuge/M1/yolov8_sperm_learning/ultralytics\n"
     ]
    }
   ],
   "source": [
    "cd ultralytics"
   ]
  },
  {
   "cell_type": "code",
   "execution_count": 2,
   "id": "305ea1c4-0c4d-42d0-8cdd-77511b297b33",
   "metadata": {},
   "outputs": [
    {
     "name": "stdout",
     "output_type": "stream",
     "text": [
      "/work/kosuge/M1/yolov8_sperm_learning/ultralytics\n"
     ]
    }
   ],
   "source": [
    "import os\n",
    "path = os.getcwd()\n",
    "print(path)"
   ]
  },
  {
   "cell_type": "code",
   "execution_count": 3,
   "id": "6b70ac69-a53d-4e02-a8f7-c351ee56692d",
   "metadata": {},
   "outputs": [],
   "source": [
    "from ultralytics import YOLO"
   ]
  },
  {
   "cell_type": "code",
   "execution_count": 5,
   "id": "0477dc21-588f-49f7-ab43-3d50ffaaa10b",
   "metadata": {},
   "outputs": [
    {
     "name": "stderr",
     "output_type": "stream",
     "text": [
      "PRO TIP 💡 Replace 'model=yolov5s.pt' with new 'model=yolov5su.pt'.\n",
      "YOLOv5 'u' models are trained with https://github.com/ultralytics/ultralytics and feature improved performance vs standard YOLOv5 models trained with https://github.com/ultralytics/yolov5.\n",
      "\n",
      "Ultralytics YOLOv8.0.149 🚀 Python-3.8.10 torch-1.13.0+cu117 CUDA:0 (NVIDIA TITAN X (Pascal), 12194MiB)\n",
      "WARNING ⚠️ Upgrade to torch>=2.0.0 for deterministic training.\n",
      "\u001b[34m\u001b[1mengine/trainer: \u001b[0mtask=detect, mode=train, model=yolov5s.pt, data=../../Image_label_visem_yolo/data_visem.yaml, epochs=5, patience=200, batch=8, imgsz=640, save=True, save_period=-1, cache=False, device=None, workers=0, project=None, name=../visem_detect/train_1114_visem_v5, exist_ok=True, pretrained=True, optimizer=auto, verbose=True, seed=0, deterministic=True, single_cls=False, rect=False, cos_lr=True, close_mosaic=10, resume=False, amp=True, fraction=1.0, profile=False, overlap_mask=True, mask_ratio=4, dropout=0.5, val=True, split=val, save_json=False, save_hybrid=False, conf=None, iou=0.7, max_det=300, half=False, dnn=False, plots=True, source=None, show=False, save_txt=False, save_conf=False, save_crop=False, show_labels=True, show_conf=True, vid_stride=1, line_width=None, visualize=False, augment=True, agnostic_nms=False, classes=None, retina_masks=False, boxes=True, format=torchscript, keras=False, optimize=False, int8=False, dynamic=False, simplify=False, opset=None, workspace=4, nms=False, lr0=0.01, lrf=0.01, momentum=0.937, weight_decay=0.0005, warmup_epochs=3.0, warmup_momentum=0.8, warmup_bias_lr=0.1, box=7.5, cls=0.5, dfl=1.5, pose=12.0, kobj=1.0, label_smoothing=0.0, nbs=64, hsv_h=0.015, hsv_s=0.7, hsv_v=0.4, degrees=0.0, translate=0.1, scale=0.5, shear=0.0, perspective=0.0, flipud=0.0, fliplr=0.5, mosaic=1.0, mixup=0.0, copy_paste=0.0, cfg=None, tracker=botsort.yaml, save_dir=runs/detect/../visem_detect/train_1114_visem_v5\n",
      "Overriding model.yaml nc=80 with nc=3\n",
      "\n",
      "                   from  n    params  module                                       arguments                     \n",
      "  0                  -1  1      3520  ultralytics.nn.modules.conv.Conv             [3, 32, 6, 2, 2]              \n",
      "  1                  -1  1     18560  ultralytics.nn.modules.conv.Conv             [32, 64, 3, 2]                \n",
      "  2                  -1  1     18816  ultralytics.nn.modules.block.C3              [64, 64, 1]                   \n",
      "  3                  -1  1     73984  ultralytics.nn.modules.conv.Conv             [64, 128, 3, 2]               \n",
      "  4                  -1  2    115712  ultralytics.nn.modules.block.C3              [128, 128, 2]                 \n",
      "  5                  -1  1    295424  ultralytics.nn.modules.conv.Conv             [128, 256, 3, 2]              \n",
      "  6                  -1  3    625152  ultralytics.nn.modules.block.C3              [256, 256, 3]                 \n",
      "  7                  -1  1   1180672  ultralytics.nn.modules.conv.Conv             [256, 512, 3, 2]              \n",
      "  8                  -1  1   1182720  ultralytics.nn.modules.block.C3              [512, 512, 1]                 \n",
      "  9                  -1  1    656896  ultralytics.nn.modules.block.SPPF            [512, 512, 5]                 \n",
      " 10                  -1  1    131584  ultralytics.nn.modules.conv.Conv             [512, 256, 1, 1]              \n",
      " 11                  -1  1         0  torch.nn.modules.upsampling.Upsample         [None, 2, 'nearest']          \n",
      " 12             [-1, 6]  1         0  ultralytics.nn.modules.conv.Concat           [1]                           \n",
      " 13                  -1  1    361984  ultralytics.nn.modules.block.C3              [512, 256, 1, False]          \n",
      " 14                  -1  1     33024  ultralytics.nn.modules.conv.Conv             [256, 128, 1, 1]              \n",
      " 15                  -1  1         0  torch.nn.modules.upsampling.Upsample         [None, 2, 'nearest']          \n",
      " 16             [-1, 4]  1         0  ultralytics.nn.modules.conv.Concat           [1]                           \n",
      " 17                  -1  1     90880  ultralytics.nn.modules.block.C3              [256, 128, 1, False]          \n",
      " 18                  -1  1    147712  ultralytics.nn.modules.conv.Conv             [128, 128, 3, 2]              \n",
      " 19            [-1, 14]  1         0  ultralytics.nn.modules.conv.Concat           [1]                           \n",
      " 20                  -1  1    296448  ultralytics.nn.modules.block.C3              [256, 256, 1, False]          \n",
      " 21                  -1  1    590336  ultralytics.nn.modules.conv.Conv             [256, 256, 3, 2]              \n",
      " 22            [-1, 10]  1         0  ultralytics.nn.modules.conv.Concat           [1]                           \n",
      " 23                  -1  1   1182720  ultralytics.nn.modules.block.C3              [512, 512, 1, False]          \n",
      " 24        [17, 20, 23]  1   2117209  ultralytics.nn.modules.head.Detect           [3, [128, 256, 512]]          \n",
      "YOLOv5s summary: 262 layers, 9123353 parameters, 9123337 gradients, 24.0 GFLOPs\n",
      "\n",
      "Transferred 421/427 items from pretrained weights\n",
      "WARNING ⚠️ ClearML installed but not initialized correctly, not logging this run. It seems ClearML is not configured on this machine!\n",
      "To get started with ClearML, setup your own 'clearml-server' or create a free account at https://app.clear.ml\n",
      "Setup instructions can be found here: https://clear.ml/docs\n",
      "COMET WARNING: Comet has disabled auto-logging functionality as it has been imported after the following ML modules: torch. Metrics and hyperparameters can still be logged using comet_ml.log_metrics() and comet_ml.log_parameters()\n",
      "COMET WARNING: As you are running in a Jupyter environment, you will need to call `experiment.end()` when finished to ensure all metrics and code are logged before exiting.\n",
      "COMET INFO: Couldn't find a Git repository in '/work/kosuge/M1/yolov8_sperm_learning/ultralytics' nor in any parent directory. You can override where Comet is looking for a Git Patch by setting the configuration `COMET_GIT_DIRECTORY`\n",
      "COMET INFO: Experiment is live on comet.com https://www.comet.com/kosuge/general/ec4cd21ef6674faba36a1ba0b70f9f63\n",
      "\n",
      "\u001b[34m\u001b[1mTensorBoard: \u001b[0mStart with 'tensorboard --logdir runs/detect/../visem_detect/train_1114_visem_v5', view at http://localhost:6006/\n",
      "wandb: Currently logged in as: sh-kosuge-ynu (kosuge). Use `wandb login --relogin` to force relogin\n"
     ]
    },
    {
     "data": {
      "text/html": [
       "wandb version 0.16.0 is available!  To upgrade, please run:\n",
       " $ pip install wandb --upgrade"
      ],
      "text/plain": [
       "<IPython.core.display.HTML object>"
      ]
     },
     "metadata": {},
     "output_type": "display_data"
    },
    {
     "data": {
      "text/html": [
       "Tracking run with wandb version 0.13.5"
      ],
      "text/plain": [
       "<IPython.core.display.HTML object>"
      ]
     },
     "metadata": {},
     "output_type": "display_data"
    },
    {
     "data": {
      "text/html": [
       "Run data is saved locally in <code>/work/kosuge/M1/yolov8_sperm_learning/ultralytics/wandb/run-20231114_153030-292k5136</code>"
      ],
      "text/plain": [
       "<IPython.core.display.HTML object>"
      ]
     },
     "metadata": {},
     "output_type": "display_data"
    },
    {
     "data": {
      "text/html": [
       "Syncing run <strong><a href=\"https://wandb.ai/kosuge/YOLOv8/runs/292k5136\" target=\"_blank\">../visem_detect/train_1114_visem_v5</a></strong> to <a href=\"https://wandb.ai/kosuge/YOLOv8\" target=\"_blank\">Weights & Biases</a> (<a href=\"https://wandb.me/run\" target=\"_blank\">docs</a>)<br/>"
      ],
      "text/plain": [
       "<IPython.core.display.HTML object>"
      ]
     },
     "metadata": {},
     "output_type": "display_data"
    },
    {
     "name": "stderr",
     "output_type": "stream",
     "text": [
      "\u001b[34m\u001b[1mAMP: \u001b[0mrunning Automatic Mixed Precision (AMP) checks with YOLOv8n...\n",
      "\u001b[34m\u001b[1mAMP: \u001b[0mchecks passed ✅\n",
      "\u001b[34m\u001b[1mtrain: \u001b[0mScanning /work/kosuge/M1/yolov8_sperm_learning/ultralytics/Image_label_visem_yolo/train/labels.cache... 738 images, 45 backgrounds, 0 corrupt: 100% 783/783 [00:00<?, ?it/s]\n",
      "\u001b[34m\u001b[1malbumentations: \u001b[0mBlur(p=0.01, blur_limit=(3, 7)), MedianBlur(p=0.01, blur_limit=(3, 7)), ToGray(p=0.01), CLAHE(p=0.01, clip_limit=(1, 4.0), tile_grid_size=(8, 8))\n",
      "\u001b[34m\u001b[1mval: \u001b[0mScanning /work/kosuge/M1/yolov8_sperm_learning/ultralytics/Image_label_visem_yolo/val/labels.cache... 196 images, 0 backgrounds, 0 corrupt: 100% 196/196 [00:00<?, ?it/s]\n",
      "Plotting labels to runs/detect/../visem_detect/train_1114_visem_v5/labels.jpg... \n",
      "\u001b[34m\u001b[1moptimizer:\u001b[0m AdamW(lr=0.001429, momentum=0.9) with parameter groups 69 weight(decay=0.0), 76 weight(decay=0.0005), 75 bias(decay=0.0)\n",
      "Image sizes 640 train, 640 val\n",
      "Using 0 dataloader workers\n",
      "Logging results to \u001b[1mruns/detect/../visem_detect/train_1114_visem_v5\u001b[0m\n",
      "Starting training for 5 epochs...\n",
      "\n",
      "      Epoch    GPU_mem   box_loss   cls_loss   dfl_loss  Instances       Size\n",
      "        1/5      2.88G      2.315       1.88      1.217        250        640: 100% 98/98 [02:00<00:00,  1.23s/it]\n",
      "                 Class     Images  Instances      Box(P          R      mAP50  mAP50-95): 100% 13/13 [00:19<00:00,  1.50s/it]\n",
      "                   all        196       4218      0.519      0.243      0.137     0.0411\n",
      "\n",
      "      Epoch    GPU_mem   box_loss   cls_loss   dfl_loss  Instances       Size\n",
      "        2/5      3.09G      2.076      1.253      1.105        236        640: 100% 98/98 [02:00<00:00,  1.23s/it]\n",
      "                 Class     Images  Instances      Box(P          R      mAP50  mAP50-95): 100% 13/13 [00:20<00:00,  1.59s/it]\n",
      "                   all        196       4218       0.34      0.326      0.254     0.0877\n",
      "\n",
      "      Epoch    GPU_mem   box_loss   cls_loss   dfl_loss  Instances       Size\n",
      "        3/5      2.55G      1.966      1.181       1.07        249        640: 100% 98/98 [02:01<00:00,  1.24s/it]\n",
      "                 Class     Images  Instances      Box(P          R      mAP50  mAP50-95): 100% 13/13 [00:22<00:00,  1.71s/it]\n",
      "                   all        196       4218      0.248      0.275      0.234     0.0785\n",
      "\n",
      "      Epoch    GPU_mem   box_loss   cls_loss   dfl_loss  Instances       Size\n",
      "        4/5      2.95G      1.899      1.028      1.052        115        640: 100% 98/98 [02:07<00:00,  1.30s/it]\n",
      "                 Class     Images  Instances      Box(P          R      mAP50  mAP50-95): 100% 13/13 [00:23<00:00,  1.77s/it]\n",
      "                   all        196       4218      0.388      0.327        0.3      0.103\n",
      "\n",
      "      Epoch    GPU_mem   box_loss   cls_loss   dfl_loss  Instances       Size\n",
      "        5/5      2.85G      1.837     0.9522      1.037        304        640: 100% 98/98 [02:09<00:00,  1.32s/it]\n",
      "                 Class     Images  Instances      Box(P          R      mAP50  mAP50-95): 100% 13/13 [00:28<00:00,  2.21s/it]\n",
      "                   all        196       4218      0.529      0.365       0.32      0.112\n",
      "\n",
      "5 epochs completed in 0.215 hours.\n",
      "Optimizer stripped from runs/detect/../visem_detect/train_1114_visem_v5/weights/last.pt, 18.5MB\n",
      "Optimizer stripped from runs/detect/../visem_detect/train_1114_visem_v5/weights/best.pt, 18.5MB\n",
      "\n",
      "Validating runs/detect/../visem_detect/train_1114_visem_v5/weights/best.pt...\n",
      "Ultralytics YOLOv8.0.149 🚀 Python-3.8.10 torch-1.13.0+cu117 CUDA:0 (NVIDIA TITAN X (Pascal), 12194MiB)\n",
      "YOLOv5s summary (fused): 193 layers, 9112697 parameters, 0 gradients, 23.8 GFLOPs\n",
      "                 Class     Images  Instances      Box(P          R      mAP50  mAP50-95): 100% 13/13 [00:29<00:00,  2.28s/it]\n",
      "                   all        196       4218      0.467      0.355      0.309      0.106\n",
      "                 Sperm        196       3808      0.486      0.648      0.491      0.147\n",
      "               cluster        196        131      0.278      0.229      0.148     0.0422\n",
      "               pinhead        196        279      0.638      0.189      0.287      0.128\n",
      "Speed: 0.4ms preprocess, 12.3ms inference, 0.0ms loss, 0.8ms postprocess per image\n",
      "Results saved to \u001b[1mruns/detect/../visem_detect/train_1114_visem_v5\u001b[0m\n",
      "COMET INFO: ---------------------------\n",
      "COMET INFO: Comet.ml Experiment Summary\n",
      "COMET INFO: ---------------------------\n",
      "COMET INFO:   Data:\n",
      "COMET INFO:     display_summary_level : 1\n",
      "COMET INFO:     url                   : https://www.comet.com/kosuge/general/ec4cd21ef6674faba36a1ba0b70f9f63\n",
      "COMET INFO:   Metrics [count] (min, max):\n",
      "COMET INFO:     lr/pg0 [6]                : (0.0004714727891156462, 0.0009370316557973968)\n",
      "COMET INFO:     lr/pg1 [6]                : (0.0004714727891156462, 0.0009370316557973968)\n",
      "COMET INFO:     lr/pg2 [6]                : (0.0004714727891156462, 0.0009370316557973968)\n",
      "COMET INFO:     metrics/mAP50(B) [12]     : (0.13716, 0.31966)\n",
      "COMET INFO:     metrics/mAP50-95(B) [12]  : (0.04114, 0.11168)\n",
      "COMET INFO:     metrics/precision(B) [12] : (0.24775, 0.52905)\n",
      "COMET INFO:     metrics/recall(B) [12]    : (0.24321, 0.36548)\n",
      "COMET INFO:     model/GFLOPs              : 24.047\n",
      "COMET INFO:     model/parameters          : 9123353\n",
      "COMET INFO:     model/speed_PyTorch(ms)   : 5.532\n",
      "COMET INFO:     train/box_loss [495]      : (1.83559, 3.25278)\n",
      "COMET INFO:     train/cls_loss [495]      : (0.94528, 4.80369)\n",
      "COMET INFO:     train/dfl_loss [495]      : (0.96955, 1.76283)\n",
      "COMET INFO:     val/box_loss [10]         : (2.26536, 2.59271)\n",
      "COMET INFO:     val/cls_loss [10]         : (1.38119, 1.88214)\n",
      "COMET INFO:     val/dfl_loss [10]         : (1.26049, 1.37016)\n",
      "COMET INFO:   Others:\n",
      "COMET INFO:     eval_batch_logging_interval  : 1\n",
      "COMET INFO:     log_confusion_matrix_on_eval : False\n",
      "COMET INFO:     log_image_predictions        : True\n",
      "COMET INFO:     max_image_predictions        : 100\n",
      "COMET INFO:   Parameters:\n",
      "COMET INFO:     agnostic_nms    : False\n",
      "COMET INFO:     amp             : True\n",
      "COMET INFO:     augment         : True\n",
      "COMET INFO:     batch           : 8\n",
      "COMET INFO:     box             : 7.5\n",
      "COMET INFO:     boxes           : True\n",
      "COMET INFO:     cache           : False\n",
      "COMET INFO:     cfg             : 1\n",
      "COMET INFO:     classes         : 1\n",
      "COMET INFO:     close_mosaic    : 10\n",
      "COMET INFO:     cls             : 0.5\n",
      "COMET INFO:     conf            : 1\n",
      "COMET INFO:     copy_paste      : 0.0\n",
      "COMET INFO:     cos_lr          : True\n",
      "COMET INFO:     data            : /work/kosuge/M1/yolov8_sperm_learning/ultralytics/ultralytics/cfg/../../Image_label_visem_yolo/data_visem.yaml\n",
      "COMET INFO:     degrees         : 0.0\n",
      "COMET INFO:     deterministic   : True\n",
      "COMET INFO:     device          : 1\n",
      "COMET INFO:     dfl             : 1.5\n",
      "COMET INFO:     dnn             : False\n",
      "COMET INFO:     dropout         : 0.5\n",
      "COMET INFO:     dynamic         : False\n",
      "COMET INFO:     epochs          : 5\n",
      "COMET INFO:     exist_ok        : True\n",
      "COMET INFO:     fliplr          : 0.5\n",
      "COMET INFO:     flipud          : 0.0\n",
      "COMET INFO:     format          : torchscript\n",
      "COMET INFO:     fraction        : 1.0\n",
      "COMET INFO:     half            : False\n",
      "COMET INFO:     hsv_h           : 0.015\n",
      "COMET INFO:     hsv_s           : 0.7\n",
      "COMET INFO:     hsv_v           : 0.4\n",
      "COMET INFO:     imgsz           : 640\n",
      "COMET INFO:     int8            : False\n",
      "COMET INFO:     iou             : 0.7\n",
      "COMET INFO:     keras           : False\n",
      "COMET INFO:     kobj            : 1.0\n",
      "COMET INFO:     label_smoothing : 0.0\n",
      "COMET INFO:     line_width      : 1\n",
      "COMET INFO:     lr0             : 0.01\n",
      "COMET INFO:     lrf             : 0.01\n",
      "COMET INFO:     mask_ratio      : 4\n",
      "COMET INFO:     max_det         : 300\n",
      "COMET INFO:     mixup           : 0.0\n",
      "COMET INFO:     mode            : train\n",
      "COMET INFO:     model           : yolov5s.pt\n",
      "COMET INFO:     momentum        : 0.937\n",
      "COMET INFO:     mosaic          : 1.0\n",
      "COMET INFO:     name            : ../visem_detect/train_1114_visem_v5\n",
      "COMET INFO:     nbs             : 64\n",
      "COMET INFO:     nms             : False\n",
      "COMET INFO:     opset           : 1\n",
      "COMET INFO:     optimize        : False\n",
      "COMET INFO:     optimizer       : auto\n",
      "COMET INFO:     overlap_mask    : True\n",
      "COMET INFO:     patience        : 200\n",
      "COMET INFO:     perspective     : 0.0\n",
      "COMET INFO:     plots           : True\n",
      "COMET INFO:     pose            : 12.0\n",
      "COMET INFO:     pretrained      : True\n",
      "COMET INFO:     profile         : False\n",
      "COMET INFO:     project         : 1\n",
      "COMET INFO:     rect            : False\n",
      "COMET INFO:     resume          : False\n",
      "COMET INFO:     retina_masks    : False\n",
      "COMET INFO:     save            : True\n",
      "COMET INFO:     save_conf       : False\n",
      "COMET INFO:     save_crop       : False\n",
      "COMET INFO:     save_dir        : runs/detect/../visem_detect/train_1114_visem_v5\n",
      "COMET INFO:     save_hybrid     : False\n",
      "COMET INFO:     save_json       : False\n",
      "COMET INFO:     save_period     : -1\n",
      "COMET INFO:     save_txt        : False\n",
      "COMET INFO:     scale           : 0.5\n",
      "COMET INFO:     seed            : 0\n",
      "COMET INFO:     shear           : 0.0\n",
      "COMET INFO:     show            : False\n",
      "COMET INFO:     show_conf       : True\n",
      "COMET INFO:     show_labels     : True\n",
      "COMET INFO:     simplify        : False\n",
      "COMET INFO:     single_cls      : False\n",
      "COMET INFO:     source          : 1\n",
      "COMET INFO:     split           : val\n",
      "COMET INFO:     task            : detect\n",
      "COMET INFO:     tracker         : botsort.yaml\n",
      "COMET INFO:     translate       : 0.1\n",
      "COMET INFO:     val             : True\n",
      "COMET INFO:     verbose         : True\n",
      "COMET INFO:     vid_stride      : 1\n",
      "COMET INFO:     visualize       : False\n",
      "COMET INFO:     warmup_bias_lr  : 0.1\n",
      "COMET INFO:     warmup_epochs   : 3.0\n",
      "COMET INFO:     warmup_momentum : 0.8\n",
      "COMET INFO:     weight_decay    : 0.0005\n",
      "COMET INFO:     workers         : 0\n",
      "COMET INFO:     workspace       : 4\n",
      "COMET INFO:   Uploads:\n",
      "COMET INFO:     confusion-matrix    : 1\n",
      "COMET INFO:     environment details : 1\n",
      "COMET INFO:     filename            : 1\n",
      "COMET INFO:     images              : 10\n",
      "COMET INFO:     installed packages  : 1\n",
      "COMET INFO:     model-element       : 1 (17.63 MB)\n",
      "COMET INFO:     notebook            : 1\n",
      "COMET INFO:     os packages         : 1\n",
      "COMET INFO:     source_code         : 1\n",
      "COMET INFO: ---------------------------\n",
      "COMET WARNING: Comet has disabled auto-logging functionality as it has been imported after the following ML modules: torch. Metrics and hyperparameters can still be logged using comet_ml.log_metrics() and comet_ml.log_parameters()\n",
      "COMET INFO: Uploading metrics, params, and assets to Comet before program termination (may take several seconds)\n",
      "COMET INFO: The Python SDK has 3600 seconds to finish before aborting...\n",
      "COMET INFO: Waiting for completion of the file uploads (may take several seconds)\n",
      "COMET INFO: The Python SDK has 10800 seconds to finish before aborting...\n",
      "COMET INFO: Still uploading 1 file(s), remaining 4.15 MB/19.91 MB\n"
     ]
    }
   ],
   "source": [
    "model = YOLO(\"yolov8m.pt\")\n",
    "model.train(data=\"../../Image_label_visem_yolo/data_visem.yaml\", epochs=500, batch=8, workers=0,\n",
    "            name = '../visem_detect/train_1114_visem_v8m_aug',patience = 200,dropout = 0.5,save_crop = False,augment = True,  cos_lr = True, exist_ok = True)"
   ]
  },
  {
   "cell_type": "code",
   "execution_count": 6,
   "id": "0f89dfc1-7dd9-4577-85bb-1a15fd8b1f98",
   "metadata": {},
   "outputs": [
    {
     "name": "stderr",
     "output_type": "stream",
     "text": [
      "Ultralytics YOLOv8.0.149 🚀 Python-3.8.10 torch-1.13.0+cu117 CUDA:0 (NVIDIA TITAN X (Pascal), 12194MiB)\n",
      "YOLOv5s summary (fused): 193 layers, 9112697 parameters, 0 gradients, 23.8 GFLOPs\n",
      "\u001b[34m\u001b[1mval: \u001b[0mScanning /work/kosuge/M1/yolov8_sperm_learning/ultralytics/Image_label_visem_yolo/val/labels.cache... 196 images, 0 backgrounds, 0 corrupt: 100% 196/196 [00:00<?, ?it/s]\n",
      "                 Class     Images  Instances      Box(P          R      mAP50  mAP50-95): 100% 25/25 [00:24<00:00,  1.02it/s]\n",
      "                   all        196       4218      0.438      0.384      0.307      0.106\n",
      "                 Sperm        196       3808      0.458      0.671      0.491      0.147\n",
      "               cluster        196        131      0.241      0.275      0.143     0.0415\n",
      "               pinhead        196        279      0.616      0.208      0.288      0.129\n",
      "Speed: 0.4ms preprocess, 10.1ms inference, 0.0ms loss, 0.9ms postprocess per image\n",
      "Results saved to \u001b[1mruns/detect/../visem_detect/train_1114_visem_v5\u001b[0m\n"
     ]
    },
    {
     "data": {
      "text/plain": [
       "array([    0.14658,    0.041512,     0.12897])"
      ]
     },
     "execution_count": 6,
     "metadata": {},
     "output_type": "execute_result"
    },
    {
     "name": "stderr",
     "output_type": "stream",
     "text": [
      "wandb: Waiting for W&B process to finish... (success).\n",
      "wandb: - 25.043 MB of 25.067 MB uploaded (0.000 MB deduped)\r"
     ]
    }
   ],
   "source": [
    "#validate the model\n",
    "metric = model.val()\n",
    "metric.box.map\n",
    "metric.box.map50\n",
    "metric.box.map75\n",
    "metric.box.maps"
   ]
  }
 ],
 "metadata": {
  "kernelspec": {
   "display_name": "Python 3 (ipykernel)",
   "language": "python",
   "name": "python3"
  },
  "language_info": {
   "codemirror_mode": {
    "name": "ipython",
    "version": 3
   },
   "file_extension": ".py",
   "mimetype": "text/x-python",
   "name": "python",
   "nbconvert_exporter": "python",
   "pygments_lexer": "ipython3",
   "version": "3.8.10"
  }
 },
 "nbformat": 4,
 "nbformat_minor": 5
}
